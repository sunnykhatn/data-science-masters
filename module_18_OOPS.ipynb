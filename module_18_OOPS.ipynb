{
 "cells": [
  {
   "cell_type": "markdown",
   "id": "d90c34cb",
   "metadata": {},
   "source": [
    "### Q1. Create a vehicle class with an init method"
   ]
  },
  {
   "cell_type": "code",
   "execution_count": null,
   "id": "1af32b94",
   "metadata": {},
   "outputs": [],
   "source": [
    "# Q1. Create a vehicle class with init method\n",
    "class Vehicle:\n",
    "    def __init__(self, name_of_vehicle, max_speed, average_of_vehicle):\n",
    "        self.name_of_vehicle = name_of_vehicle\n",
    "        self.max_speed = max_speed\n",
    "        self.average_of_vehicle = average_of_vehicle\n",
    "\n",
    "# Example usage\n",
    "vehicle = Vehicle(\"Bike\", 150, 45)\n",
    "print(f\"Vehicle: {vehicle.name_of_vehicle}, Max Speed: {vehicle.max_speed}, Average: {vehicle.average_of_vehicle}\")\n"
   ]
  },
  {
   "cell_type": "markdown",
   "id": "339a904f",
   "metadata": {},
   "source": [
    "### Q2. Create a child class Car inheriting Vehicle"
   ]
  },
  {
   "cell_type": "code",
   "execution_count": null,
   "id": "d9d3edc5",
   "metadata": {},
   "outputs": [],
   "source": [
    "# Q2. Create a child class Car from Vehicle class\n",
    "class Car(Vehicle):\n",
    "    def seating_capacity(self, capacity):\n",
    "        return f\"The {self.name_of_vehicle} has a seating capacity of {capacity}.\"\n",
    "\n",
    "# Example usage\n",
    "car = Car(\"Sedan\", 220, 15)\n",
    "print(car.seating_capacity(5))\n"
   ]
  },
  {
   "cell_type": "markdown",
   "id": "7a1f0160",
   "metadata": {},
   "source": [
    "### Q3. Multiple Inheritance example"
   ]
  },
  {
   "cell_type": "code",
   "execution_count": null,
   "id": "c074afd6",
   "metadata": {},
   "outputs": [],
   "source": [
    "# Q3. Multiple Inheritance example\n",
    "class Engine:\n",
    "    def __init__(self, engine_type):\n",
    "        self.engine_type = engine_type\n",
    "\n",
    "class Transmission:\n",
    "    def __init__(self, transmission_type):\n",
    "        self.transmission_type = transmission_type\n",
    "\n",
    "class CarWithMultipleInheritance(Engine, Transmission):\n",
    "    def __init__(self, name, engine_type, transmission_type):\n",
    "        Engine.__init__(self, engine_type)\n",
    "        Transmission.__init__(self, transmission_type)\n",
    "        self.name = name\n",
    "\n",
    "    def car_details(self):\n",
    "        return f\"Car {self.name} has an {self.engine_type} engine and {self.transmission_type} transmission.\"\n",
    "\n",
    "# Example usage\n",
    "multi_inherit_car = CarWithMultipleInheritance(\"SUV\", \"V8\", \"Automatic\")\n",
    "print(multi_inherit_car.car_details())\n"
   ]
  },
  {
   "cell_type": "markdown",
   "id": "a0bd9254",
   "metadata": {},
   "source": [
    "### Q4. Getter and Setter methods"
   ]
  },
  {
   "cell_type": "code",
   "execution_count": null,
   "id": "26a9b44c",
   "metadata": {},
   "outputs": [],
   "source": [
    "# Q4. Getter and Setter in Python\n",
    "class Student:\n",
    "    def __init__(self, name):\n",
    "        self._name = name\n",
    "\n",
    "    # Getter method\n",
    "    @property\n",
    "    def name(self):\n",
    "        return self._name\n",
    "\n",
    "    # Setter method\n",
    "    @name.setter\n",
    "    def name(self, value):\n",
    "        self._name = value\n",
    "\n",
    "# Example usage\n",
    "student = Student(\"John\")\n",
    "print(f\"Student name (before): {student.name}\")\n",
    "student.name = \"Doe\"  # Using setter\n",
    "print(f\"Student name (after): {student.name}\")\n"
   ]
  },
  {
   "cell_type": "markdown",
   "id": "fc6a1dc7",
   "metadata": {},
   "source": [
    "### Q5. Method Overriding example"
   ]
  },
  {
   "cell_type": "code",
   "execution_count": null,
   "id": "77e47899",
   "metadata": {},
   "outputs": [],
   "source": [
    "# Q5. Method Overriding in Python\n",
    "class Parent:\n",
    "    def show(self):\n",
    "        return \"This is the Parent class\"\n",
    "\n",
    "class Child(Parent):\n",
    "    def show(self):\n",
    "        return \"This is the Child class, overriding the Parent class\"\n",
    "\n",
    "# Example usage\n",
    "parent = Parent()\n",
    "child = Child()\n",
    "\n",
    "print(parent.show())  # Calls Parent class method\n",
    "print(child.show())   # Calls Child class method (overridden)\n"
   ]
  }
 ],
 "metadata": {
  "language_info": {
   "name": "python"
  }
 },
 "nbformat": 4,
 "nbformat_minor": 5
}
