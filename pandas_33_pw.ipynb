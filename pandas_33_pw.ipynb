{
 "cells": [
  {
   "cell_type": "markdown",
   "id": "a9d76b51",
   "metadata": {},
   "source": [
    "### Q1 Series"
   ]
  },
  {
   "cell_type": "code",
   "execution_count": null,
   "id": "f6ec43ba",
   "metadata": {},
   "outputs": [],
   "source": [
    "0     4\n",
    "1     8\n",
    "2    15\n",
    "3    16\n",
    "4    23\n",
    "5    42\n",
    "dtype: int64"
   ]
  },
  {
   "cell_type": "markdown",
   "id": "c840da98",
   "metadata": {},
   "source": [
    "### Q2 Series"
   ]
  },
  {
   "cell_type": "code",
   "execution_count": null,
   "id": "627338c4",
   "metadata": {},
   "outputs": [],
   "source": [
    "0     1\n",
    "1     2\n",
    "2     3\n",
    "3     4\n",
    "4     5\n",
    "5     6\n",
    "6     7\n",
    "7     8\n",
    "8     9\n",
    "9    10\n",
    "dtype: int64"
   ]
  },
  {
   "cell_type": "markdown",
   "id": "57d692fe",
   "metadata": {},
   "source": [
    "### Q3 DataFrame"
   ]
  },
  {
   "cell_type": "code",
   "execution_count": null,
   "id": "0a617a4b",
   "metadata": {},
   "outputs": [],
   "source": [
    "      Name  Age         City\n",
    "0    Alice   24     New York\n",
    "1      Bob   27  Los Angeles\n",
    "2  Charlie   22      Chicago"
   ]
  },
  {
   "cell_type": "markdown",
   "id": "a22c4e23",
   "metadata": {},
   "source": [
    "### Q4 Series Example"
   ]
  },
  {
   "cell_type": "code",
   "execution_count": null,
   "id": "4270ae6e",
   "metadata": {},
   "outputs": [],
   "source": [
    "0    100\n",
    "1    200\n",
    "2    300\n",
    "Name: Example Series, dtype: int64"
   ]
  },
  {
   "cell_type": "markdown",
   "id": "3c1d54ae",
   "metadata": {},
   "source": [
    "### Q4 DataFrame Example"
   ]
  },
  {
   "cell_type": "code",
   "execution_count": null,
   "id": "983ce180",
   "metadata": {},
   "outputs": [],
   "source": [
    "   Column1 Column2\n",
    "0      100       A\n",
    "1      200       B\n",
    "2      300       C"
   ]
  },
  {
   "cell_type": "markdown",
   "id": "b71aa83e",
   "metadata": {},
   "source": [
    "### Q5 Head Example"
   ]
  },
  {
   "cell_type": "code",
   "execution_count": null,
   "id": "2e628b34",
   "metadata": {},
   "outputs": [],
   "source": [
    "    Name  Age         City\n",
    "0  Alice   24     New York\n",
    "1    Bob   27  Los Angeles"
   ]
  },
  {
   "cell_type": "markdown",
   "id": "d81845de",
   "metadata": {},
   "source": [
    "### Q7 DataFrame from Series"
   ]
  },
  {
   "cell_type": "code",
   "execution_count": null,
   "id": "30d482ac",
   "metadata": {},
   "outputs": [],
   "source": [
    "    Fruit  Price\n",
    "0   Apple    1.2\n",
    "1  Banana    0.5\n",
    "2  Cherry    0.3"
   ]
  }
 ],
 "metadata": {
  "language_info": {
   "name": "python"
  }
 },
 "nbformat": 4,
 "nbformat_minor": 5
}
