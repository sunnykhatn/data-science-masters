{
 "cells": [
  {
   "cell_type": "markdown",
   "id": "4af07fc9",
   "metadata": {},
   "source": [
    "### Q1: Print the data present in the second row of the dataframe, df"
   ]
  },
  {
   "cell_type": "code",
   "execution_count": null,
   "id": "7e941a6a",
   "metadata": {},
   "outputs": [],
   "source": [
    "import pandas as pd\n",
    "course_name = ['Data Science', 'Machine Learning', 'Big Data', 'Data Engineer']\n",
    "duration = [2,3,6,4]\n",
    "df = pd.DataFrame(data = {'course_name' : course_name, 'duration' : duration})\n",
    "# Printing the data in the second row\n",
    "df.iloc[1]  # Second row, index 1\n"
   ]
  },
  {
   "cell_type": "markdown",
   "id": "705c423a",
   "metadata": {},
   "source": [
    "### Q2: Difference between loc and iloc in pandas.DataFrame"
   ]
  },
  {
   "cell_type": "markdown",
   "id": "d6b70f88",
   "metadata": {},
   "source": [
    "The `.loc[]` function is label-based, meaning it selects data by row and column labels, while `.iloc[]` is integer-location-based and selects data by row and column index positions.  \n",
    "For example:\n",
    "- `df.loc[1]` accesses the row with label `1`, while `df.iloc[1]` accesses the row at index position `1`."
   ]
  },
  {
   "cell_type": "markdown",
   "id": "c0952026",
   "metadata": {},
   "source": [
    "### Q3: Reindexing the dataframe and finding new_df.loc[2] and new_df.iloc[2]"
   ]
  },
  {
   "cell_type": "code",
   "execution_count": null,
   "id": "52f0737d",
   "metadata": {},
   "outputs": [],
   "source": [
    "reindex = [3, 0, 1, 2]\n",
    "new_df = df.reindex(reindex)\n",
    "# Display new_df.loc[2] and new_df.iloc[2]\n",
    "new_df.loc[2], new_df.iloc[2]\n"
   ]
  },
  {
   "cell_type": "markdown",
   "id": "172f4928",
   "metadata": {},
   "source": [
    "### Q4: Statistical measurements"
   ]
  },
  {
   "cell_type": "code",
   "execution_count": null,
   "id": "55cc7f53",
   "metadata": {},
   "outputs": [],
   "source": [
    "# Creating a dataframe for statistical measurements\n",
    "columns = ['column_1', 'column_2', 'column_3', 'column_4', 'column_5', 'column_6']\n",
    "indices = [1,2,3,4,5,6]\n",
    "df1 = pd.DataFrame(np.random.rand(6,6), columns = columns, index = indices)\n",
    "\n",
    "# (i) Mean of each column\n",
    "df1.mean()\n",
    "\n",
    "# (ii) Standard deviation of 'column_2'\n",
    "df1['column_2'].std()\n"
   ]
  },
  {
   "cell_type": "markdown",
   "id": "0d802fa5",
   "metadata": {},
   "source": [
    "### Q5: Replace data in second row of 'column_2' and find mean"
   ]
  },
  {
   "cell_type": "code",
   "execution_count": null,
   "id": "04d61cf0",
   "metadata": {},
   "outputs": [],
   "source": [
    "# Attempt to replace second row of column_2 with a string\n",
    "df1.loc[2, 'column_2'] = 'string_value'\n",
    "\n",
    "# Now, attempting to calculate mean of column_2 (expected to raise an error)\n",
    "try:\n",
    "    df1['column_2'].mean()\n",
    "except TypeError as e:\n",
    "    str(e)\n"
   ]
  },
  {
   "cell_type": "markdown",
   "id": "2c87611b",
   "metadata": {},
   "source": [
    "Explanation: Replacing a numerical value with a string in `column_2` causes the `mean` function to fail, as it cannot calculate a mean with mixed data types (string and numeric). To calculate the mean, all entries in the column must be numeric."
   ]
  },
  {
   "cell_type": "markdown",
   "id": "e29e9640",
   "metadata": {},
   "source": [
    "### Q6: Windows functions in pandas"
   ]
  },
  {
   "cell_type": "markdown",
   "id": "0add705d",
   "metadata": {},
   "source": [
    "Windows functions in pandas allow for the application of rolling calculations, such as moving averages, to data over a specified window. Types include:\n",
    "1. **Rolling**: Applies functions over a fixed-size moving window (e.g., rolling mean).\n",
    "2. **Expanding**: Applies functions over a window that grows with each observation (e.g., cumulative sum).\n",
    "3. **EWM (Exponentially Weighted Mean)**: Calculates weighted averages where weights decay exponentially over time (e.g., EWM mean).\n"
   ]
  },
  {
   "cell_type": "markdown",
   "id": "3d98afd6",
   "metadata": {},
   "source": [
    "### Q7: Print current month and year"
   ]
  },
  {
   "cell_type": "code",
   "execution_count": null,
   "id": "636b9036",
   "metadata": {},
   "outputs": [],
   "source": [
    "# Getting the current month and year\n",
    "current_date = pd.Timestamp.now()\n",
    "current_date.strftime('%B %Y')\n"
   ]
  },
  {
   "cell_type": "markdown",
   "id": "3c4feb1f",
   "metadata": {},
   "source": [
    "### Q8: Calculate difference between two dates in days, hours, and minutes"
   ]
  },
  {
   "cell_type": "code",
   "execution_count": null,
   "id": "a3226dae",
   "metadata": {},
   "outputs": [],
   "source": [
    "# Function to calculate date difference\n",
    "def date_difference(date1, date2):\n",
    "    date1 = pd.to_datetime(date1)\n",
    "    date2 = pd.to_datetime(date2)\n",
    "    delta = date2 - date1\n",
    "    days = delta.days\n",
    "    hours, remainder = divmod(delta.seconds, 3600)\n",
    "    minutes, _ = divmod(remainder, 60)\n",
    "    return days, hours, minutes\n",
    "\n",
    "# Example\n",
    "date1 = '2024-01-01'\n",
    "date2 = '2024-01-03'\n",
    "date_difference(date1, date2)\n"
   ]
  },
  {
   "cell_type": "markdown",
   "id": "e8083826",
   "metadata": {},
   "source": [
    "### Q9: Convert column in CSV to categorical data"
   ]
  },
  {
   "cell_type": "code",
   "execution_count": null,
   "id": "d4b71e6b",
   "metadata": {},
   "outputs": [],
   "source": [
    "# Sample code to read CSV and convert a column to categorical\n",
    "file_path = input(\"Enter CSV file path: \")\n",
    "column_name = input(\"Enter column name to convert to categorical: \")\n",
    "categories = input(\"Enter category order separated by commas: \").split(',')\n",
    "\n",
    "# Read CSV and convert specified column to categorical\n",
    "df_cat = pd.read_csv(file_path)\n",
    "df_cat[column_name] = pd.Categorical(df_cat[column_name], categories=categories, ordered=True)\n",
    "df_cat.sort_values(by=column_name, inplace=True)\n",
    "df_cat.head()\n"
   ]
  },
  {
   "cell_type": "markdown",
   "id": "7c96ff5d",
   "metadata": {},
   "source": [
    "### Q10: Visualize sales data using stacked bar chart"
   ]
  },
  {
   "cell_type": "code",
   "execution_count": null,
   "id": "bfe09718",
   "metadata": {},
   "outputs": [],
   "source": [
    "import matplotlib.pyplot as plt\n",
    "\n",
    "# Read CSV file for sales data and create a stacked bar chart\n",
    "file_path = input(\"Enter CSV file path: \")\n",
    "df_sales = pd.read_csv(file_path)\n",
    "\n",
    "# Assuming the CSV has columns 'Date', 'Product', 'Sales'\n",
    "df_sales['Date'] = pd.to_datetime(df_sales['Date'])\n",
    "df_pivot = df_sales.pivot_table(index='Date', columns='Product', values='Sales', aggfunc='sum')\n",
    "df_pivot.plot(kind='bar', stacked=True, figsize=(10, 6))\n",
    "plt.xlabel('Date')\n",
    "plt.ylabel('Sales')\n",
    "plt.title('Sales by Product Category Over Time')\n",
    "plt.show()\n"
   ]
  },
  {
   "cell_type": "markdown",
   "id": "c885a3d1",
   "metadata": {},
   "source": [
    "### Q11: Calculate and display mean, median, and mode for test scores"
   ]
  },
  {
   "cell_type": "code",
   "execution_count": null,
   "id": "c46ab093",
   "metadata": {},
   "outputs": [],
   "source": [
    "# Sample code to calculate statistics from CSV\n",
    "file_path = input(\"Enter the CSV file path: \")\n",
    "df_student = pd.read_csv(file_path)\n",
    "\n",
    "mean_score = df_student['Test Score'].mean()\n",
    "median_score = df_student['Test Score'].median()\n",
    "mode_score = df_student['Test Score'].mode().tolist()\n",
    "\n",
    "# Display results in a table\n",
    "from tabulate import tabulate\n",
    "\n",
    "table = [[\"Mean\", mean_score], [\"Median\", median_score], [\"Mode\", ', '.join(map(str, mode_score))]]\n",
    "print(tabulate(table, headers=[\"Statistic\", \"Value\"], tablefmt=\"grid\"))\n"
   ]
  }
 ],
 "metadata": {
  "language_info": {
   "name": "python"
  }
 },
 "nbformat": 4,
 "nbformat_minor": 5
}
